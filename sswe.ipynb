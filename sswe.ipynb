{
 "cells": [
  {
   "cell_type": "code",
   "execution_count": 1,
   "metadata": {},
   "outputs": [],
   "source": [
    "import pandas as pd\n",
    "import numpy as np\n",
    "import re\n",
    "import nltk\n",
    "from nltk.corpus import stopwords\n",
    "from string import punctuation\n",
    "import matplotlib.pyplot as plt"
   ]
  },
  {
   "cell_type": "code",
   "execution_count": 2,
   "metadata": {},
   "outputs": [],
   "source": [
    "stopwords_en = set(stopwords.words('english'))\n",
    "stopwords_with_punct = stopwords_en.union(set(punctuation))\n",
    "\n",
    "data = pd.read_csv('training.1600000.processed.noemoticon.csv', encoding='latin-1', header=None)"
   ]
  },
  {
   "cell_type": "markdown",
   "metadata": {},
   "source": [
    "- I have used sentiment140 dataset from kaggle the problem statement \n",
    "- This is a labeled dataset of 1.6 Million tweets\n",
    "##### data: https://www.kaggle.com/kazanova/sentiment140"
   ]
  },
  {
   "cell_type": "code",
   "execution_count": 3,
   "metadata": {},
   "outputs": [],
   "source": [
    "data.columns = ('target','uid', 'time', 'query', 'user', 'text')"
   ]
  },
  {
   "cell_type": "markdown",
   "metadata": {},
   "source": [
    "#### Preprocessing\n",
    "- In the preprocessing, I have removed all the hastags, @userids, urls as well as punctuation\n",
    "- Tweets are converted to lowercase, as well as, punctuation has been removed from words\n",
    "- EG: 'views,'   ---->    'views' "
   ]
  },
  {
   "cell_type": "code",
   "execution_count": 4,
   "metadata": {
    "scrolled": true
   },
   "outputs": [],
   "source": [
    "def preprocess_text(tweet):\n",
    "    tweet = tweet.lower()\n",
    "    # remove urls, if any\n",
    "    tweet = re.sub(r'((https?:\\/\\/)|(www\\.))[A-Za-z0-9.\\/]+', '',  tweet)\n",
    "    tweet = re.sub(r'[A-Za-z0-9]+.com', '',tweet)\n",
    "    # remove #s, @users, if any\n",
    "    tweet = re.sub(r'[@#][A-Za-z0-9]+', '',tweet)\n",
    "    # remove non-ascii characters\n",
    "    tweet = ''.join([w for w in tweet if ord(w)<128])\n",
    "    # remove punctuation only\n",
    "    tweet = ' '.join([w.strip(punctuation) for w in tweet.split() if w not in punctuation])\n",
    "    # remove stopwords, punctuation\n",
    "    # do not remove stopwords, sometime tweet becomes meaningless,\n",
    "    # WE MAY LOOSE IMPORTANT SENTIMENT INFORMATION\n",
    "#     tweet = [w.strip(punctuation) for w in tweet.lower().split() if w not in stopwords_with_punct]\n",
    "    # remove words that contains numeric\n",
    "#     tweet = ' '.join([w for w in tweet if w.isalpha()])\n",
    "    return tweet"
   ]
  },
  {
   "cell_type": "markdown",
   "metadata": {},
   "source": [
    "#### select 150 random tweets, 75 from each class\n",
    "- Due to lack of computational power only 150 tweets has been taken from full dataset\n",
    "- And on these tweets, a POC has been completed"
   ]
  },
  {
   "cell_type": "code",
   "execution_count": 5,
   "metadata": {},
   "outputs": [
    {
     "data": {
      "text/plain": [
       "array([0, 4])"
      ]
     },
     "execution_count": 5,
     "metadata": {},
     "output_type": "execute_result"
    }
   ],
   "source": [
    "data['target'].unique()"
   ]
  },
  {
   "cell_type": "code",
   "execution_count": 6,
   "metadata": {},
   "outputs": [],
   "source": [
    "random_data_150 = pd.DataFrame(None, columns=data.columns)"
   ]
  },
  {
   "cell_type": "code",
   "execution_count": 7,
   "metadata": {},
   "outputs": [],
   "source": [
    "random_data_150 = random_data_150.append(data[data['target']==0].sample(n=75, random_state=1))\n",
    "random_data_150 = random_data_150.append(data[data['target']==4].sample(n=75, random_state=1))"
   ]
  },
  {
   "cell_type": "code",
   "execution_count": 8,
   "metadata": {
    "scrolled": false
   },
   "outputs": [
    {
     "data": {
      "text/html": [
       "<div>\n",
       "<style scoped>\n",
       "    .dataframe tbody tr th:only-of-type {\n",
       "        vertical-align: middle;\n",
       "    }\n",
       "\n",
       "    .dataframe tbody tr th {\n",
       "        vertical-align: top;\n",
       "    }\n",
       "\n",
       "    .dataframe thead th {\n",
       "        text-align: right;\n",
       "    }\n",
       "</style>\n",
       "<table border=\"1\" class=\"dataframe\">\n",
       "  <thead>\n",
       "    <tr style=\"text-align: right;\">\n",
       "      <th></th>\n",
       "      <th>target</th>\n",
       "      <th>uid</th>\n",
       "      <th>time</th>\n",
       "      <th>query</th>\n",
       "      <th>user</th>\n",
       "      <th>text</th>\n",
       "    </tr>\n",
       "  </thead>\n",
       "  <tbody>\n",
       "    <tr>\n",
       "      <th>670935</th>\n",
       "      <td>0</td>\n",
       "      <td>2246713398</td>\n",
       "      <td>Fri Jun 19 18:00:49 PDT 2009</td>\n",
       "      <td>NO_QUERY</td>\n",
       "      <td>Mickie_1</td>\n",
       "      <td>@TheRealScarab PA system bugs are a bummer, so...</td>\n",
       "    </tr>\n",
       "    <tr>\n",
       "      <th>649589</th>\n",
       "      <td>0</td>\n",
       "      <td>2237331866</td>\n",
       "      <td>Fri Jun 19 05:36:56 PDT 2009</td>\n",
       "      <td>NO_QUERY</td>\n",
       "      <td>supaflya</td>\n",
       "      <td>oh daaamnnn! the firemen ball's on the 14th an...</td>\n",
       "    </tr>\n",
       "  </tbody>\n",
       "</table>\n",
       "</div>"
      ],
      "text/plain": [
       "       target         uid                          time     query      user  \\\n",
       "670935      0  2246713398  Fri Jun 19 18:00:49 PDT 2009  NO_QUERY  Mickie_1   \n",
       "649589      0  2237331866  Fri Jun 19 05:36:56 PDT 2009  NO_QUERY  supaflya   \n",
       "\n",
       "                                                     text  \n",
       "670935  @TheRealScarab PA system bugs are a bummer, so...  \n",
       "649589  oh daaamnnn! the firemen ball's on the 14th an...  "
      ]
     },
     "execution_count": 8,
     "metadata": {},
     "output_type": "execute_result"
    }
   ],
   "source": [
    "random_data_150.head(2)"
   ]
  },
  {
   "cell_type": "code",
   "execution_count": 9,
   "metadata": {
    "scrolled": true
   },
   "outputs": [
    {
     "name": "stdout",
     "output_type": "stream",
     "text": [
      "CPU times: user 6.24 ms, sys: 118 µs, total: 6.36 ms\n",
      "Wall time: 6.28 ms\n"
     ]
    }
   ],
   "source": [
    "%%time\n",
    "random_data_150['text'] = random_data_150['text'].apply(preprocess_text)"
   ]
  },
  {
   "cell_type": "markdown",
   "metadata": {},
   "source": [
    "#### Create Vocabulary\n",
    "- Vocubulary: is set of unique words appearing in our dataset"
   ]
  },
  {
   "cell_type": "code",
   "execution_count": 10,
   "metadata": {},
   "outputs": [],
   "source": [
    "combined_sentence = ' '.join([tweet for tweet in random_data_150['text'].values])"
   ]
  },
  {
   "cell_type": "code",
   "execution_count": 11,
   "metadata": {
    "scrolled": true
   },
   "outputs": [
    {
     "data": {
      "text/plain": [
       "849"
      ]
     },
     "execution_count": 11,
     "metadata": {},
     "output_type": "execute_result"
    }
   ],
   "source": [
    "vocabulary = set(combined_sentence.split())\n",
    "len(vocabulary)"
   ]
  },
  {
   "cell_type": "markdown",
   "metadata": {},
   "source": [
    "#### word to index dictionary"
   ]
  },
  {
   "cell_type": "code",
   "execution_count": 12,
   "metadata": {},
   "outputs": [],
   "source": [
    "word_to_ix = {word:index for index,word in enumerate(vocabulary)}"
   ]
  },
  {
   "cell_type": "markdown",
   "metadata": {},
   "source": [
    "### Trigram train data\n",
    "\n",
    "- Trigrams are created by sliding window mechanism\n",
    "- Eg: Cleaned tweet: pa system bugs are a bummer sorry ;;; Sentiment = negative = 0 = [0,1]\n",
    "- Below is all possible tupples in following format: ([CONTEXT Words], sentiment)\n",
    "- (['pa', 'system', 'bugs'], [0, 1]),\n",
    "- (['system', 'bugs', 'are'], [0, 1]),\n",
    "- (['bugs', 'are', 'a'], [0, 1]),\n",
    "- (['are', 'a', 'bummer'], [0, 1]),\n",
    "- (['a', 'bummer', 'sorry'], [0, 1]),\n",
    "\n",
    "* positive sentiment in the code is represented as [1,0]\n"
   ]
  },
  {
   "cell_type": "code",
   "execution_count": 13,
   "metadata": {},
   "outputs": [],
   "source": [
    "trigrams = []\n",
    "\n",
    "for index, row in random_data_150.iterrows():\n",
    "    tweet = row['text']\n",
    "    sentiment = [0,1] if row['target']==0 else [1,0]\n",
    "    tweet_grams = []\n",
    "    tweet = tweet.split()\n",
    "    for i in range(len(tweet)-2):\n",
    "        tweet_grams.append(([tweet[i], tweet[i+1], tweet[i+2]], sentiment))\n",
    "    trigrams.extend(tweet_grams)"
   ]
  },
  {
   "cell_type": "code",
   "execution_count": 14,
   "metadata": {},
   "outputs": [
    {
     "data": {
      "text/plain": [
       "[(['pa', 'system', 'bugs'], [0, 1]),\n",
       " (['system', 'bugs', 'are'], [0, 1]),\n",
       " (['bugs', 'are', 'a'], [0, 1]),\n",
       " (['are', 'a', 'bummer'], [0, 1]),\n",
       " (['a', 'bummer', 'sorry'], [0, 1])]"
      ]
     },
     "execution_count": 14,
     "metadata": {},
     "output_type": "execute_result"
    }
   ],
   "source": [
    "trigrams[:5]"
   ]
  },
  {
   "cell_type": "code",
   "execution_count": 15,
   "metadata": {},
   "outputs": [
    {
     "data": {
      "text/plain": [
       "<torch._C.Generator at 0x7fbc53550ef0>"
      ]
     },
     "execution_count": 15,
     "metadata": {},
     "output_type": "execute_result"
    }
   ],
   "source": [
    "import torch\n",
    "import torch.nn as nn\n",
    "import torch.nn.functional as F\n",
    "import torch.optim as optim\n",
    "\n",
    "torch.manual_seed(1)"
   ]
  },
  {
   "cell_type": "markdown",
   "metadata": {},
   "source": [
    "### Trigrams to id tensors\n",
    "- As every word has an unique index id, saved in word_to_ix dictionary\n",
    "- I used these ids to uniquely represent word throughout the excercise\n",
    "- By using these ids,  tensors are created, so that these can be further used in network"
   ]
  },
  {
   "cell_type": "code",
   "execution_count": 16,
   "metadata": {},
   "outputs": [],
   "source": [
    "trigram_tens = []\n",
    "\n",
    "for context, target in trigrams:\n",
    "    context_ids = [word_to_ix[word] for word in context]\n",
    "    context_tens = torch.tensor(context_ids, dtype=torch.long)\n",
    "    target_tens = torch.tensor([target], dtype=torch.float)\n",
    "    trigram_tens.append((context_tens, target_tens))"
   ]
  },
  {
   "cell_type": "code",
   "execution_count": 17,
   "metadata": {},
   "outputs": [
    {
     "data": {
      "text/plain": [
       "[(tensor([769, 846,  60]), tensor([[0., 1.]])),\n",
       " (tensor([846,  60, 249]), tensor([[0., 1.]])),\n",
       " (tensor([ 60, 249, 341]), tensor([[0., 1.]])),\n",
       " (tensor([249, 341, 773]), tensor([[0., 1.]])),\n",
       " (tensor([341, 773, 281]), tensor([[0., 1.]]))]"
      ]
     },
     "execution_count": 17,
     "metadata": {},
     "output_type": "execute_result"
    }
   ],
   "source": [
    "trigram_tens[:5]"
   ]
  },
  {
   "cell_type": "markdown",
   "metadata": {},
   "source": [
    "###  Model\n",
    "- The model below is created using pytorch framework, with the SSWEh architecture as described in the paper"
   ]
  },
  {
   "cell_type": "markdown",
   "metadata": {},
   "source": [
    "#### model parameters as used in paper"
   ]
  },
  {
   "cell_type": "code",
   "execution_count": 18,
   "metadata": {},
   "outputs": [],
   "source": [
    "CONTEXT_LEN = 3\n",
    "VOCAB_SIZE = len(vocabulary)\n",
    "EMBEDDING_DIM = 50\n",
    "HIDDEN_LAYER_LEN = 20\n",
    "AdagradLearningRate = 0.1"
   ]
  },
  {
   "cell_type": "code",
   "execution_count": 19,
   "metadata": {},
   "outputs": [],
   "source": [
    "class SSWEh(nn.Module):\n",
    "    def __init__(self, vocab_size, embedding_dim, context_len):\n",
    "        super(SSWEh, self).__init__()\n",
    "        self.embeddings = nn.Embedding(vocab_size, embedding_dim)\n",
    "        self.linear1 = nn.Linear(context_len*embedding_dim, HIDDEN_LAYER_LEN)\n",
    "        self.linear2 = nn.Linear(HIDDEN_LAYER_LEN, 2)\n",
    "    \n",
    "    def forward(self, inputs):\n",
    "        embeds = self.embeddings(inputs).view((1,-1))\n",
    "        out = F.hardtanh(self.linear1(embeds))\n",
    "        out = self.linear2(out)\n",
    "        return F.softmax(out, dim=1)"
   ]
  },
  {
   "cell_type": "markdown",
   "metadata": {},
   "source": [
    "## Training"
   ]
  },
  {
   "cell_type": "code",
   "execution_count": 20,
   "metadata": {},
   "outputs": [],
   "source": [
    "losses = []\n",
    "loss_function = nn.BCELoss()\n",
    "model = SSWEh(VOCAB_SIZE, EMBEDDING_DIM, CONTEXT_LEN)\n",
    "optimizer = optim.Adagrad(model.parameters(), lr=AdagradLearningRate)"
   ]
  },
  {
   "cell_type": "code",
   "execution_count": 21,
   "metadata": {
    "scrolled": true
   },
   "outputs": [
    {
     "name": "stdout",
     "output_type": "stream",
     "text": [
      "SSWEh(\n",
      "  (embeddings): Embedding(849, 50)\n",
      "  (linear1): Linear(in_features=150, out_features=20, bias=True)\n",
      "  (linear2): Linear(in_features=20, out_features=2, bias=True)\n",
      ")\n"
     ]
    }
   ],
   "source": [
    "print(model)"
   ]
  },
  {
   "cell_type": "code",
   "execution_count": 24,
   "metadata": {},
   "outputs": [],
   "source": [
    "out1 = model(trigram_tens[0][0])"
   ]
  },
  {
   "cell_type": "code",
   "execution_count": 25,
   "metadata": {
    "scrolled": true
   },
   "outputs": [
    {
     "data": {
      "text/plain": [
       "tensor(0.5229, grad_fn=<BinaryCrossEntropyBackward>)"
      ]
     },
     "execution_count": 25,
     "metadata": {},
     "output_type": "execute_result"
    }
   ],
   "source": [
    "loss_function(out1, trigram_tens[0][1])"
   ]
  },
  {
   "cell_type": "code",
   "execution_count": 26,
   "metadata": {
    "scrolled": true
   },
   "outputs": [
    {
     "name": "stdout",
     "output_type": "stream",
     "text": [
      "165.99963979702443\n",
      "138.57342564681312\n",
      "149.47877428110223\n",
      "159.62153350550216\n",
      "167.90054731501732\n",
      "176.7995135113597\n",
      "182.16312013514107\n",
      "186.2392294727033\n",
      "184.61669619908207\n",
      "185.52291351158055\n",
      "186.17483549432654\n",
      "183.85301580491068\n",
      "180.9221729891142\n",
      "181.45770831560367\n",
      "182.7355064909425\n",
      "178.61551707924082\n",
      "173.51494061913036\n",
      "176.0633013846127\n",
      "173.86326930986434\n",
      "172.53049190782622\n",
      "171.00548558058108\n",
      "170.5324839828827\n",
      "169.90764975515776\n",
      "169.18359960038651\n",
      "169.45345517349688\n",
      "170.10726312908082\n",
      "168.5256027981095\n",
      "162.8951077171314\n",
      "156.49025287106724\n",
      "154.19312223268116\n",
      "150.81631682362513\n",
      "148.3521343557877\n",
      "146.28216703921544\n",
      "145.46708493982806\n",
      "145.19550392858582\n",
      "144.30061491222182\n",
      "143.81905761342387\n",
      "143.529783095502\n",
      "143.49207711946224\n",
      "143.38533904841927\n",
      "143.6694676760569\n",
      "144.53562700979433\n",
      "138.79294784889953\n",
      "133.89607406756164\n",
      "131.59263600669505\n",
      "129.4632853211216\n",
      "124.38855014157849\n",
      "121.35034079921613\n",
      "120.37951015879005\n",
      "119.66234214080865\n",
      "119.38022612573764\n",
      "117.30957235301034\n",
      "116.67911856363494\n",
      "116.37519468055817\n",
      "116.41430098685319\n",
      "115.42577821469814\n",
      "115.18257241513061\n",
      "114.66324546626527\n",
      "114.48372225815251\n",
      "114.34607385353428\n",
      "114.22904702505963\n",
      "114.09479197543368\n",
      "113.98386477039787\n",
      "113.8998929849131\n",
      "113.83746341486085\n",
      "113.7268564614379\n",
      "113.78522117559419\n",
      "113.47489802231968\n",
      "113.3417266272022\n",
      "113.24984018811111\n",
      "113.22824868429316\n",
      "113.14817966670412\n",
      "113.13966151156848\n",
      "112.74136516721495\n",
      "111.63377734384764\n",
      "110.9318882685794\n",
      "110.7922476500876\n",
      "110.40402358986549\n",
      "110.25389533077075\n",
      "110.1822768881899\n",
      "110.1245307945224\n",
      "110.07679187350493\n",
      "110.0306770231141\n",
      "109.97940013995202\n",
      "109.9729891551946\n",
      "109.93890259110057\n",
      "109.85494677329652\n",
      "109.55571747071716\n",
      "109.18046572133724\n",
      "109.0919598967076\n",
      "109.02512640394568\n",
      "107.45345494088747\n",
      "106.90784403495502\n",
      "105.82053372843808\n",
      "104.91605314454199\n",
      "107.63667276725022\n",
      "102.32137934839238\n",
      "101.82310461065825\n",
      "101.70405647880222\n",
      "101.54282926774988\n",
      "101.24466836903267\n",
      "100.92740282540095\n",
      "100.82913388903387\n",
      "100.77289889403366\n",
      "100.74081813565977\n",
      "100.69398981437814\n",
      "100.66168493589277\n",
      "100.63260287736023\n",
      "100.6095516032041\n",
      "100.58280017788104\n",
      "100.5500936480685\n",
      "100.87579694074941\n",
      "97.73224828920343\n",
      "97.73109109346112\n",
      "97.72107254233154\n",
      "97.68324690255281\n",
      "97.6471424178275\n",
      "97.6088703144269\n",
      "97.57620023749752\n",
      "97.5499579731246\n",
      "97.52514130271942\n",
      "97.50180082968186\n",
      "97.47916252796588\n",
      "97.45765684190775\n",
      "97.436853644862\n",
      "97.41661745696194\n",
      "97.47465219559604\n",
      "97.44083956922083\n",
      "97.38452291948991\n",
      "97.35384153756115\n",
      "97.33017483731152\n",
      "97.30686442619489\n",
      "97.28928928318658\n",
      "97.27158080548128\n",
      "97.25322311024325\n",
      "96.99505445485397\n",
      "96.89685794763511\n",
      "96.34335236233721\n",
      "96.04019055319736\n",
      "95.59160195249135\n",
      "95.544969676048\n",
      "95.5063105700344\n",
      "95.46858366677688\n",
      "95.47065508449006\n",
      "95.13859083629004\n",
      "94.86847692287913\n",
      "94.51514878110578\n",
      "94.20513286073654\n",
      "93.85394934361926\n",
      "93.29956319837507\n",
      "93.03162427431721\n",
      "92.94818084869974\n",
      "92.90404329696844\n",
      "92.8714631700542\n",
      "92.82856215476792\n",
      "92.7934693108252\n",
      "92.77028786606715\n",
      "92.75073943098894\n",
      "92.73344293363718\n",
      "92.71847786212467\n",
      "92.65897517873776\n",
      "92.63922846841291\n",
      "92.62327157740452\n",
      "92.60857359614806\n",
      "92.59366636273063\n",
      "92.58079435270159\n",
      "92.56852248386099\n",
      "92.55872963067574\n",
      "92.54613186162675\n",
      "92.5345388367511\n",
      "92.52332253890395\n",
      "92.51408244209887\n",
      "92.50841746828945\n",
      "92.49863640318881\n",
      "92.48621468897241\n",
      "92.4731489020871\n",
      "92.46213029312759\n",
      "92.45041236325221\n",
      "92.43919704902558\n",
      "92.4288401651537\n",
      "92.41878696834624\n",
      "92.39547339216409\n",
      "92.27152123743053\n",
      "92.197938345284\n",
      "92.17066869123184\n",
      "92.15918388243787\n",
      "92.14687368423259\n",
      "92.13674524923746\n",
      "92.12736024630559\n",
      "92.11837371092017\n",
      "92.1087329558382\n",
      "92.0997570996604\n",
      "92.0907720520664\n",
      "92.0823429767348\n",
      "92.07411885312015\n",
      "92.0659630866788\n",
      "92.05787250615066\n",
      "92.0497022322511\n",
      "92.04137390104057\n",
      "92.0331912821739\n",
      "92.02580165190338\n",
      "92.01798035902013\n",
      "92.02019942300461\n",
      "92.01249583200268\n",
      "92.0006661001915\n",
      "91.99118026952812\n",
      "91.9832837291055\n",
      "91.97545466962913\n",
      "91.96806060438618\n",
      "91.96045397611161\n",
      "91.95313125759961\n",
      "91.94687896059665\n",
      "91.9394692355612\n",
      "91.93261000023097\n",
      "91.92590919977238\n",
      "91.91914454777259\n",
      "91.91247543300796\n",
      "91.9042749776776\n",
      "91.89713487850881\n",
      "91.65900181638884\n",
      "91.54564730041338\n",
      "91.51189149990748\n",
      "91.49628319717237\n",
      "91.48680719908754\n",
      "91.4790862598075\n",
      "91.47210215811259\n",
      "91.46543363924425\n",
      "91.45901198666206\n",
      "91.45274399230209\n",
      "91.4475649857705\n",
      "91.4252416736474\n",
      "91.41432849174251\n",
      "91.40558310154739\n",
      "91.39776390037719\n",
      "91.3907987244009\n",
      "91.38201893405909\n",
      "91.3743980783972\n",
      "91.36738925734662\n",
      "91.36135768851736\n",
      "91.35504683021293\n",
      "91.34917946254583\n",
      "91.34371396214945\n",
      "91.33320945837858\n",
      "91.3256761132574\n",
      "91.31896462719502\n",
      "91.31185116488265\n",
      "91.30490835720664\n",
      "91.29469880151831\n",
      "91.3086234652956\n",
      "91.09310376880626\n",
      "91.07208632964716\n",
      "91.06406670131685\n",
      "90.99232100880215\n",
      "89.57268168950466\n",
      "89.45677434820863\n",
      "89.4701720718441\n",
      "89.47137601196064\n",
      "89.46660470714644\n",
      "89.4588360876931\n",
      "89.45025286472224\n",
      "89.44160758131176\n",
      "89.433072933348\n",
      "89.42368310762998\n",
      "89.41491135530424\n",
      "89.4062758946983\n",
      "89.39779894565879\n",
      "89.38862632258372\n",
      "89.38000468399844\n",
      "89.37180907771224\n",
      "89.36262107895729\n",
      "89.3543270517043\n",
      "89.34608049480207\n",
      "89.33824680465958\n",
      "89.33060673241013\n",
      "89.3231534967168\n",
      "89.31561899546364\n",
      "89.30838816098299\n",
      "89.30097655680598\n",
      "89.29392361076395\n",
      "89.28640470623623\n",
      "89.27909466059276\n",
      "89.27193123668206\n",
      "89.26493856540955\n",
      "89.2578661414415\n",
      "89.25113494319353\n",
      "89.24459694038791\n",
      "89.23809910830698\n",
      "89.23204190446106\n",
      "89.22509798458523\n",
      "89.21851858720348\n",
      "89.21199027070898\n",
      "89.2053861588495\n",
      "89.19918730312165\n",
      "89.19331699470735\n",
      "89.18715802757652\n",
      "89.18109065014866\n",
      "89.17491712043918\n",
      "89.16901961943014\n",
      "89.16316217411102\n",
      "89.15849978669928\n",
      "CPU times: user 6min 6s, sys: 50.4 s, total: 6min 56s\n",
      "Wall time: 6min 9s\n"
     ]
    }
   ],
   "source": [
    "%%time\n",
    "for epoch in range(300):\n",
    "    total_loss = 0\n",
    "    for context_tens, target_tens in trigram_tens:\n",
    "        model.zero_grad()\n",
    "        softmax_out = model(context_tens)\n",
    "        loss = loss_function(softmax_out, target_tens)\n",
    "        loss.backward()\n",
    "        optimizer.step()\n",
    "        total_loss += loss.item()\n",
    "    print(total_loss)\n",
    "    losses.append(total_loss)"
   ]
  },
  {
   "cell_type": "markdown",
   "metadata": {},
   "source": [
    "- Training is done twice on the same dataset, 1st time 150 epoch \n",
    "- in this case 122 to 104 training loss reduced\n",
    "- Below is graph for the same"
   ]
  },
  {
   "cell_type": "code",
   "execution_count": 27,
   "metadata": {
    "scrolled": true
   },
   "outputs": [
    {
     "data": {
      "text/plain": [
       "[<matplotlib.lines.Line2D at 0x7fbc512188b0>]"
      ]
     },
     "execution_count": 27,
     "metadata": {},
     "output_type": "execute_result"
    },
    {
     "data": {
      "image/png": "[encoded data removed]",
      "text/plain": [
       "<Figure size 432x288 with 1 Axes>"
      ]
     },
     "metadata": {
      "needs_background": "light"
     },
     "output_type": "display_data"
    }
   ],
   "source": [
    "plt.plot(range(len(losses)), losses)"
   ]
  },
  {
   "cell_type": "markdown",
   "metadata": {},
   "source": [
    "- 2nd time training with 300 epochs \n",
    "- here loss coverged from 104 to 85\n",
    "- Below is graph presented for combined training losses i.e. for case1 + case 2\n",
    "- so below graph represents 122 to 85 training loss\n",
    "- in the both cases we clearly see the loss is decreasing, hence network is learning"
   ]
  },
  {
   "cell_type": "markdown",
   "metadata": {},
   "source": [
    "### Again training for 300 epochs"
   ]
  },
  {
   "cell_type": "code",
   "execution_count": 28,
   "metadata": {
    "scrolled": false
   },
   "outputs": [
    {
     "data": {
      "text/plain": [
       "[<matplotlib.lines.Line2D at 0x7fbc506dc190>]"
      ]
     },
     "execution_count": 28,
     "metadata": {},
     "output_type": "execute_result"
    },
    {
     "data": {
      "image/png": "[encoded data removed]",
      "text/plain": [
       "<Figure size 432x288 with 1 Axes>"
      ]
     },
     "metadata": {
      "needs_background": "light"
     },
     "output_type": "display_data"
    }
   ],
   "source": [
    "plt.plot(range(len(losses)), losses)"
   ]
  },
  {
   "cell_type": "code",
   "execution_count": 29,
   "metadata": {},
   "outputs": [],
   "source": [
    "# torch.save(model.state_dict(), 'model.bin')"
   ]
  },
  {
   "cell_type": "markdown",
   "metadata": {},
   "source": [
    "### Extracting embedding layer from trained model parameters"
   ]
  },
  {
   "cell_type": "code",
   "execution_count": 30,
   "metadata": {},
   "outputs": [
    {
     "name": "stdout",
     "output_type": "stream",
     "text": [
      "torch.Size([849, 50])\n"
     ]
    }
   ],
   "source": [
    "embed_layer = None\n",
    "for i in model.parameters():\n",
    "    embed_layer = i.data\n",
    "    print(i.data.shape)\n",
    "    break"
   ]
  },
  {
   "cell_type": "markdown",
   "metadata": {},
   "source": [
    "- Below is the embedding layer extracted that we trained"
   ]
  },
  {
   "cell_type": "code",
   "execution_count": 31,
   "metadata": {
    "scrolled": false
   },
   "outputs": [
    {
     "data": {
      "text/plain": [
       "tensor([[-1.2840, -0.8519, -0.7590,  ..., -0.7592, -1.0658,  0.6643],\n",
       "        [ 0.4425, -0.1786,  1.3648,  ...,  0.7801,  1.2069, -1.2186],\n",
       "        [ 1.5396, -0.9426, -0.9864,  ...,  0.5098,  0.3215, -0.2727],\n",
       "        ...,\n",
       "        [ 0.5529, -1.4446,  1.4333,  ..., -1.1565, -0.7788, -0.9231],\n",
       "        [ 1.8853,  2.0379, -0.1262,  ...,  0.0783, -0.9059,  0.6963],\n",
       "        [ 1.5212,  0.6717,  0.4253,  ..., -1.1038,  0.0337, -1.1610]])"
      ]
     },
     "execution_count": 31,
     "metadata": {},
     "output_type": "execute_result"
    }
   ],
   "source": [
    "embed_layer"
   ]
  },
  {
   "cell_type": "code",
   "execution_count": 32,
   "metadata": {},
   "outputs": [],
   "source": [
    "# torch.save(embed_layer, 'embed_layer_tensor.bin')"
   ]
  },
  {
   "cell_type": "markdown",
   "metadata": {},
   "source": [
    "#### Visulisation of Embeddings using TSNE\n",
    "- TSNE is a dimensionality reduction technique\n",
    "- Our embedding layer is in 849x50 shape, as we had 849 words in our vocubulary\n",
    "- It will be reduced to 849x2 shape by using TSNE"
   ]
  },
  {
   "cell_type": "code",
   "execution_count": 33,
   "metadata": {},
   "outputs": [],
   "source": [
    "from sklearn.manifold import TSNE"
   ]
  },
  {
   "cell_type": "code",
   "execution_count": 34,
   "metadata": {},
   "outputs": [
    {
     "name": "stdout",
     "output_type": "stream",
     "text": [
      "CPU times: user 54.1 s, sys: 404 ms, total: 54.5 s\n",
      "Wall time: 6.96 s\n"
     ]
    }
   ],
   "source": [
    "%%time\n",
    "tsne = TSNE(n_components=2, random_state=1, n_iter=10000, metric=\"cosine\")\n",
    "reduced_dim = tsne.fit_transform(embed_layer.numpy())"
   ]
  },
  {
   "cell_type": "code",
   "execution_count": 35,
   "metadata": {
    "scrolled": true
   },
   "outputs": [
    {
     "data": {
      "text/plain": [
       "array([[ -4.9153547 , -19.947256  ],\n",
       "       [ 21.255333  ,   1.3857838 ],\n",
       "       [ 16.721697  ,  17.245922  ],\n",
       "       ...,\n",
       "       [-25.07539   ,   0.08242349],\n",
       "       [-10.379233  ,  -6.575523  ],\n",
       "       [ 28.376736  , -12.932473  ]], dtype=float32)"
      ]
     },
     "execution_count": 35,
     "metadata": {},
     "output_type": "execute_result"
    }
   ],
   "source": [
    "reduced_dim"
   ]
  },
  {
   "cell_type": "code",
   "execution_count": 36,
   "metadata": {},
   "outputs": [
    {
     "data": {
      "text/plain": [
       "(849, 2)"
      ]
     },
     "execution_count": 36,
     "metadata": {},
     "output_type": "execute_result"
    }
   ],
   "source": [
    "reduced_dim.shape"
   ]
  },
  {
   "cell_type": "code",
   "execution_count": 38,
   "metadata": {},
   "outputs": [],
   "source": [
    "import seaborn as sns"
   ]
  },
  {
   "cell_type": "code",
   "execution_count": 39,
   "metadata": {},
   "outputs": [],
   "source": [
    "reduced_we_df = pd.DataFrame(reduced_dim, columns=('x','y'))"
   ]
  },
  {
   "cell_type": "code",
   "execution_count": 40,
   "metadata": {
    "scrolled": true
   },
   "outputs": [
    {
     "data": {
      "text/plain": [
       "<matplotlib.collections.PathCollection at 0x7fbc511a42e0>"
      ]
     },
     "execution_count": 40,
     "metadata": {},
     "output_type": "execute_result"
    },
    {
     "data": {
      "image/png": "[encoded data removed]",
      "text/plain": [
       "<Figure size 432x288 with 1 Axes>"
      ]
     },
     "metadata": {
      "needs_background": "light"
     },
     "output_type": "display_data"
    }
   ],
   "source": [
    "plt.scatter(reduced_we_df['x'], reduced_we_df['y'], )"
   ]
  },
  {
   "cell_type": "markdown",
   "metadata": {},
   "source": [
    "### PCA dim reduction"
   ]
  },
  {
   "cell_type": "code",
   "execution_count": 43,
   "metadata": {},
   "outputs": [],
   "source": [
    "from sklearn.decomposition import PCA"
   ]
  },
  {
   "cell_type": "code",
   "execution_count": 44,
   "metadata": {},
   "outputs": [],
   "source": [
    "pca = PCA(n_components=2)\n",
    "pca_reduced = pca.fit_transform(embed_layer.numpy())"
   ]
  },
  {
   "cell_type": "code",
   "execution_count": 45,
   "metadata": {
    "scrolled": true
   },
   "outputs": [
    {
     "data": {
      "text/plain": [
       "<matplotlib.collections.PathCollection at 0x7fbc50e42820>"
      ]
     },
     "execution_count": 45,
     "metadata": {},
     "output_type": "execute_result"
    },
    {
     "data": {
      "image/png": "[encoded data removed]",
      "text/plain": [
       "<Figure size 720x720 with 1 Axes>"
      ]
     },
     "metadata": {
      "needs_background": "light"
     },
     "output_type": "display_data"
    }
   ],
   "source": [
    "plt.figure(figsize=(10,10))\n",
    "plt.scatter(pca_reduced[:,0], pca_reduced[:,1])"
   ]
  },
  {
   "cell_type": "code",
   "execution_count": 46,
   "metadata": {
    "scrolled": true
   },
   "outputs": [
    {
     "data": {
      "text/plain": [
       "0.00   -32.473843\n",
       "0.25   -10.857988\n",
       "0.50     0.573869\n",
       "0.90    20.963549\n",
       "0.99    30.231928\n",
       "1.00    33.232300\n",
       "dtype: float64"
      ]
     },
     "execution_count": 46,
     "metadata": {},
     "output_type": "execute_result"
    }
   ],
   "source": [
    "pd.Series(reduced_dim[:,1]).quantile([0,0.25, 0.5, 0.9, 0.99, 1])"
   ]
  },
  {
   "cell_type": "code",
   "execution_count": 47,
   "metadata": {},
   "outputs": [],
   "source": [
    "from sklearn.preprocessing import StandardScaler"
   ]
  },
  {
   "cell_type": "code",
   "execution_count": 48,
   "metadata": {},
   "outputs": [],
   "source": [
    "sc = StandardScaler()\n",
    "red_nor = sc.fit_transform(reduced_dim)"
   ]
  },
  {
   "cell_type": "code",
   "execution_count": 49,
   "metadata": {},
   "outputs": [
    {
     "data": {
      "text/plain": [
       "0.00   -2.000429\n",
       "0.25   -0.825745\n",
       "0.50    0.006266\n",
       "0.90    1.341782\n",
       "0.99    1.876094\n",
       "1.00    1.953634\n",
       "dtype: float64"
      ]
     },
     "execution_count": 49,
     "metadata": {},
     "output_type": "execute_result"
    }
   ],
   "source": [
    "\n",
    "pd.Series(red_nor[:,0]).quantile([0,0.25, 0.5, 0.9, 0.99, 1])"
   ]
  },
  {
   "cell_type": "code",
   "execution_count": 50,
   "metadata": {},
   "outputs": [
    {
     "data": {
      "text/plain": [
       "<matplotlib.collections.PathCollection at 0x7fbc512cbf40>"
      ]
     },
     "execution_count": 50,
     "metadata": {},
     "output_type": "execute_result"
    },
    {
     "data": {
      "image/png": "[encoded data removed]",
      "text/plain": [
       "<Figure size 720x720 with 1 Axes>"
      ]
     },
     "metadata": {
      "needs_background": "light"
     },
     "output_type": "display_data"
    }
   ],
   "source": [
    "plt.figure(figsize=(10,10))\n",
    "plt.scatter(red_nor[:,0], red_nor[:,1])"
   ]
  },
  {
   "cell_type": "markdown",
   "metadata": {},
   "source": [
    "- In both the cases, using pca or tsne, it is expected that the words will form clusters\n",
    "- However, due to lack of computational power, i took only 150 tweets, with 849 unique words\n",
    "- This dataset is very less, \n",
    "- also we can increase number of epochs in training\n",
    "- Network architecture could be updated\n",
    "- Using above methods, certainly we will get clusters because words share common properties or semantics\n",
    "- And training word embedding would capture these semantics"
   ]
  },
  {
   "cell_type": "markdown",
   "metadata": {},
   "source": [
    "#### Plotting only particular words from reduced dimension"
   ]
  },
  {
   "cell_type": "code",
   "execution_count": 51,
   "metadata": {},
   "outputs": [],
   "source": [
    "words = ['sunday', 'tonight', 'tomorrow', 'evening', 'weeks', 'nights', 'night', 'wednesday', 'tuesday', 'monday', 'days', 'weekend', 'friday', 'april', '14th', 'seconds', 'tomm']"
   ]
  },
  {
   "cell_type": "code",
   "execution_count": 52,
   "metadata": {},
   "outputs": [
    {
     "data": {
      "text/plain": [
       "17"
      ]
     },
     "execution_count": 52,
     "metadata": {},
     "output_type": "execute_result"
    }
   ],
   "source": [
    "len(words)"
   ]
  },
  {
   "cell_type": "code",
   "execution_count": 53,
   "metadata": {},
   "outputs": [],
   "source": [
    "word_indexes = [word_to_ix[word] for word in words]"
   ]
  },
  {
   "cell_type": "code",
   "execution_count": 54,
   "metadata": {},
   "outputs": [
    {
     "data": {
      "text/plain": [
       "[532,\n",
       " 797,\n",
       " 626,\n",
       " 235,\n",
       " 394,\n",
       " 670,\n",
       " 848,\n",
       " 164,\n",
       " 329,\n",
       " 368,\n",
       " 39,\n",
       " 571,\n",
       " 353,\n",
       " 666,\n",
       " 708,\n",
       " 580,\n",
       " 227]"
      ]
     },
     "execution_count": 54,
     "metadata": {},
     "output_type": "execute_result"
    }
   ],
   "source": [
    "word_indexes"
   ]
  },
  {
   "cell_type": "code",
   "execution_count": 55,
   "metadata": {},
   "outputs": [],
   "source": [
    "word_vals_by_reduced_embed_layer = reduced_dim[word_indexes, :]"
   ]
  },
  {
   "cell_type": "code",
   "execution_count": 56,
   "metadata": {
    "scrolled": true
   },
   "outputs": [
    {
     "data": {
      "image/png": "[encoded data removed]",
      "text/plain": [
       "<Figure size 432x288 with 1 Axes>"
      ]
     },
     "metadata": {
      "needs_background": "light"
     },
     "output_type": "display_data"
    }
   ],
   "source": [
    "plt.scatter(word_vals_by_reduced_embed_layer[:,0], word_vals_by_reduced_embed_layer[:,1])\n",
    "for index, word in enumerate(words):\n",
    "    plt.annotate(word, tuple(word_vals_by_reduced_embed_layer[index]))"
   ]
  }
 ],
 "metadata": {
  "kernelspec": {
   "display_name": "Python 3",
   "language": "python",
   "name": "python3"
  },
  "language_info": {
   "codemirror_mode": {
    "name": "ipython",
    "version": 3
   },
   "file_extension": ".py",
   "mimetype": "text/x-python",
   "name": "python",
   "nbconvert_exporter": "python",
   "pygments_lexer": "ipython3",
   "version": "3.8.5"
  }
 },
 "nbformat": 4,
 "nbformat_minor": 4
}
